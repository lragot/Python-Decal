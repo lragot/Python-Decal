{
 "cells": [
  {
   "cell_type": "code",
   "execution_count": 3,
   "metadata": {},
   "outputs": [],
   "source": [
    "import random"
   ]
  },
  {
   "cell_type": "code",
   "execution_count": 4,
   "metadata": {},
   "outputs": [],
   "source": [
    "with open('wordslist.txt','r') as txt:\n",
    "    words = txt.read()"
   ]
  },
  {
   "cell_type": "code",
   "execution_count": 5,
   "metadata": {},
   "outputs": [],
   "source": [
    "WORDCHOICE = words.replace('\"','').split(',')\n",
    "ALLOWED_CHARACTERS = ['a','b','c','d','e','f','g','h','i','j','k','l','m','n','o','p','q','r','s','t','u','v','w','y','z']\n",
    "MAX_ATTEMPTS = 6"
   ]
  },
  {
   "cell_type": "code",
   "execution_count": 6,
   "metadata": {},
   "outputs": [],
   "source": [
    "def generate_word(word):\n",
    "    secret_word = []\n",
    "    for i in range(len(word)):\n",
    "        secret_word.append(word[i])\n",
    "    return secret_word"
   ]
  },
  {
   "cell_type": "code",
   "execution_count": 7,
   "metadata": {},
   "outputs": [],
   "source": [
    "def give_length(secret_word):\n",
    "    length = len(secret_word)\n",
    "    word = length * '_ '\n",
    "    print('\\nThe secret word is ' + str(length) + ' letters long.' + '\\n' + word)"
   ]
  },
  {
   "cell_type": "code",
   "execution_count": 8,
   "metadata": {},
   "outputs": [],
   "source": [
    "def check_character(guess):\n",
    "    wrong_character = guess not in ALLOWED_CHARACTERS\n",
    "    return wrong_character"
   ]
  },
  {
   "cell_type": "code",
   "execution_count": 9,
   "metadata": {},
   "outputs": [],
   "source": [
    "def correct_guess(secret_word, guesser_word, guess):      \n",
    "    while guess in secret_word:\n",
    "        position = secret_word.index(guess)\n",
    "        guesser_word[position] = guess\n",
    "        secret_word[secret_word.index(guess)] = '-'\n",
    "    print(' '.join(guesser_word))"
   ]
  },
  {
   "cell_type": "code",
   "execution_count": 17,
   "metadata": {},
   "outputs": [],
   "source": [
    "def player_guess():\n",
    "    guess = input('Guess a letter: ').lower()\n",
    "    if check_character(guess):\n",
    "        print(str(guess) + ' is not an allowed character. Try again!')\n",
    "        return player_guess()\n",
    "    else:\n",
    "        return guess"
   ]
  },
  {
   "cell_type": "code",
   "execution_count": 12,
   "metadata": {},
   "outputs": [],
   "source": [
    "def continue_game_condition(secret_word, attempts):\n",
    "    return not all(elem == secret_word[0] for elem in secret_word) and attempts > 0"
   ]
  },
  {
   "cell_type": "code",
   "execution_count": 13,
   "metadata": {},
   "outputs": [],
   "source": [
    "def wrong_guess(guess, wrong_letters):\n",
    "    print('The letter ' + str(guess) + ' is not in the secret word.')\n",
    "    wrong_letters.append(guess)\n",
    "    return wrong_letters"
   ]
  },
  {
   "cell_type": "code",
   "execution_count": 18,
   "metadata": {},
   "outputs": [],
   "source": [
    "def hangman():\n",
    "    play_game = input('Do you want to play hangman (Y/N)? ').upper()\n",
    "    while play_game == 'Y':\n",
    "        word = random.choice(WORDCHOICE)\n",
    "        secret_word = generate_word(word)\n",
    "        attempts = MAX_ATTEMPTS\n",
    "        guesser_word = list(len(secret_word) * '_')\n",
    "        wrong_letters = []\n",
    "        give_length(secret_word)\n",
    "        print('\\nYou have ' + str(attempts) + ' lives.')\n",
    "        while continue_game_condition(secret_word, attempts):\n",
    "            print('\\nLetters NOT in the secret word: ' + ', '.join(wrong_letters))\n",
    "            guess = player_guess()\n",
    "            if guess in secret_word:\n",
    "                correct_guess(secret_word, guesser_word, guess)\n",
    "            else:\n",
    "                wrong_letter = wrong_guess(guess, wrong_letters)\n",
    "                attempts -= 1\n",
    "                print('\\nYou have ' + str(attempts) + ' lives.')\n",
    "        if all(elem == secret_word[0] for elem in secret_word):\n",
    "            print('\\nYOU WON! The secret word was: ' + str(word))\n",
    "        elif attempts == 0:\n",
    "            print('\\nYou ran out of lives... good try! The secret word was: ' + str(word))\n",
    "        play_game = input('\\nDo you want to play hangman again (Y/N)? ')"
   ]
  },
  {
   "cell_type": "code",
   "execution_count": null,
   "metadata": {
    "scrolled": true
   },
   "outputs": [],
   "source": [
    "hangman()"
   ]
  },
  {
   "cell_type": "code",
   "execution_count": null,
   "metadata": {},
   "outputs": [],
   "source": []
  },
  {
   "cell_type": "code",
   "execution_count": 24,
   "metadata": {},
   "outputs": [
    {
     "name": "stderr",
     "output_type": "stream",
     "text": [
      "test_check_char_word (__main__.TestHangman) ... ok\n",
      "test_check_character (__main__.TestHangman) ... ok\n",
      "test_continue_game_condition (__main__.TestHangman) ... ok\n",
      "test_generate_word (__main__.TestHangman) ... ok\n",
      "\n",
      "----------------------------------------------------------------------\n",
      "Ran 4 tests in 0.012s\n",
      "\n",
      "OK\n"
     ]
    },
    {
     "data": {
      "text/plain": [
       "<unittest.main.TestProgram at 0x10f5eb590>"
      ]
     },
     "execution_count": 24,
     "metadata": {},
     "output_type": "execute_result"
    }
   ],
   "source": [
    "import unittest\n",
    "\n",
    "class TestHangman(unittest.TestCase):\n",
    "        \n",
    "    def test_generate_word(self):\n",
    "        self.assertEqual(generate_word('box'), ['b', 'o', 'x'])\n",
    "        self.assertEqual(generate_word('toys'), ['t', 'o', 'y', 's'])\n",
    "        \n",
    "    def test_continue_game_condition(self):\n",
    "        self.assertEqual(continue_game_condition(['f', '-', '-'], 0), False)\n",
    "        self.assertEqual(continue_game_condition(['f', '-', 'x'], 4), True)\n",
    "        \n",
    "    def test_check_character(self):\n",
    "        self.assertEqual(check_character('f'), False)\n",
    "        self.assertEqual(check_character('7'), True)\n",
    "        \n",
    "    def test_check_char_word(self):\n",
    "        def check_char_word(word):\n",
    "            new_word = generate_word(word)\n",
    "            for i in new_word:\n",
    "                if check_character(i):\n",
    "                    return False\n",
    "            return True\n",
    "        self.assertEqual(check_char_word('word'), True)\n",
    "        self.assertEqual(check_char_word('he110'), False)\n",
    "        \n",
    "unittest.main(argv=[''], verbosity=2, exit=False)"
   ]
  }
 ],
 "metadata": {
  "kernelspec": {
   "display_name": "Python 3",
   "language": "python",
   "name": "python3"
  },
  "language_info": {
   "codemirror_mode": {
    "name": "ipython",
    "version": 3
   },
   "file_extension": ".py",
   "mimetype": "text/x-python",
   "name": "python",
   "nbconvert_exporter": "python",
   "pygments_lexer": "ipython3",
   "version": "3.7.4"
  }
 },
 "nbformat": 4,
 "nbformat_minor": 2
}
