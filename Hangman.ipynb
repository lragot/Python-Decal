{
 "cells": [
  {
   "cell_type": "code",
   "execution_count": 3,
   "metadata": {},
   "outputs": [],
   "source": [
    "import random"
   ]
  },
  {
   "cell_type": "code",
   "execution_count": 4,
   "metadata": {},
   "outputs": [],
   "source": [
    "with open('wordslist.txt','r') as txt:\n",
    "    words = txt.read()"
   ]
  },
  {
   "cell_type": "code",
   "execution_count": 5,
   "metadata": {},
   "outputs": [],
   "source": [
    "WORDCHOICE = words.replace('\"','').split(',')\n",
    "ALLOWED_CHARACTERS = ['a','b','c','d','e','f','g','h','i','j','k','l','m','n','o','p','q','r','s','t','u','v','w','y','z']\n",
    "MAX_ATTEMPTS = 6"
   ]
  },
  {
   "cell_type": "code",
   "execution_count": 6,
   "metadata": {},
   "outputs": [],
   "source": [
    "def generate_word(word):\n",
    "    \n",
    "## this transforms a word into a list with each letter as an element\n",
    "## input: 'hello'\n",
    "## output: ['h','e','l','l','o']\n",
    "\n",
    "    secret_word = []\n",
    "    for i in range(len(word)):\n",
    "        secret_word.append(word[i])\n",
    "    return secret_word"
   ]
  },
  {
   "cell_type": "code",
   "execution_count": 7,
   "metadata": {},
   "outputs": [],
   "source": [
    "def give_length(secret_word):\n",
    "\n",
    "## gives the user the length of a word, but this word has to be a list with each letter as an element\n",
    "## input: ['h','e','l','l','o']\n",
    "## output: 'The secret word is 5 letters long. _ _ _ _ _ '\n",
    "    \n",
    "    length = len(secret_word)\n",
    "    word = length * '_ '\n",
    "    print('\\nThe secret word is ' + str(length) + ' letters long.' + '\\n' + word)"
   ]
  },
  {
   "cell_type": "code",
   "execution_count": 8,
   "metadata": {},
   "outputs": [],
   "source": [
    "def check_character(guess):\n",
    "\n",
    "## Boolean checks to see if a given character is not an allowed character\n",
    "## input: ['8']\n",
    "## output: True\n",
    "    \n",
    "    wrong_character = guess not in ALLOWED_CHARACTERS\n",
    "    return wrong_character"
   ]
  },
  {
   "cell_type": "code",
   "execution_count": 9,
   "metadata": {},
   "outputs": [],
   "source": [
    "def correct_guess(secret_word, guesser_word, guess):\n",
    "    \n",
    "## The secret_word is the word the player is trying to guess and the guesser_word is what is known by the guesser.\n",
    "## This function takes a guess, places it in the guesser's word (and prints it), and takes it out of the secret word.\n",
    "## input: ['h','e','l','l','o'], ['_','_','l','l','_'], 'h'\n",
    "## output: h _ l l _\n",
    "    \n",
    "    while guess in secret_word:\n",
    "        position = secret_word.index(guess)\n",
    "        guesser_word[position] = guess\n",
    "# replaces the letter guessed correctly in the secret word with a '-'\n",
    "        secret_word[secret_word.index(guess)] = '-'\n",
    "    print(' '.join(guesser_word))"
   ]
  },
  {
   "cell_type": "code",
   "execution_count": 17,
   "metadata": {},
   "outputs": [],
   "source": [
    "def player_guess():\n",
    "\n",
    "## This function asks for a guess. If the character is not an allowed character it will ask for another guess.\n",
    "## input: '8'\n",
    "## output: 'e is not an allowed character. Try again!' 'Guess a letter: '\n",
    "    \n",
    "    guess = input('Guess a letter: ').lower()\n",
    "    if check_character(guess):\n",
    "        print(str(guess) + ' is not an allowed character. Try again!')\n",
    "        return player_guess()\n",
    "    else:\n",
    "        return guess"
   ]
  },
  {
   "cell_type": "code",
   "execution_count": 12,
   "metadata": {},
   "outputs": [],
   "source": [
    "def continue_game_condition(secret_word, attempts):\n",
    "\n",
    "## This checks to see if the game can be continued by making sure that the player still has lives and that they have\n",
    "## not guessed the complete word yet.\n",
    "\n",
    "    return not all(elem == secret_word[0] for elem in secret_word) and attempts > 0"
   ]
  },
  {
   "cell_type": "code",
   "execution_count": 13,
   "metadata": {},
   "outputs": [],
   "source": [
    "def wrong_guess(guess, wrong_letters):\n",
    "\n",
    "## When the player guesses a wrong letter, this function adds the letter to the list of letters the player has already\n",
    "## guessed wrong. This way it will be easy for the player not to guess the same letter twice.\n",
    "    \n",
    "    print('The letter ' + str(guess) + ' is not in the secret word.')\n",
    "    wrong_letters.append(guess)\n",
    "    return wrong_letters"
   ]
  },
  {
   "cell_type": "code",
   "execution_count": 18,
   "metadata": {},
   "outputs": [],
   "source": [
    "def hangman():\n",
    "    play_game = input('Do you want to play hangman (Y/N)? ').upper()\n",
    "    while play_game == 'Y':\n",
    "        word = random.choice(WORDCHOICE)\n",
    "        secret_word = generate_word(word)\n",
    "        attempts = MAX_ATTEMPTS\n",
    "# the guesser word is empty at the beginning because the player hasn't guessed anything\n",
    "        guesser_word = list(len(secret_word) * '_')\n",
    "        wrong_letters = []\n",
    "        give_length(secret_word)\n",
    "        print('\\nYou have ' + str(attempts) + ' lives.')\n",
    "        while continue_game_condition(secret_word, attempts):\n",
    "# before each guess the player will see which letters they have already guessed wrong\n",
    "            print('\\nLetters NOT in the secret word: ' + ', '.join(wrong_letters))\n",
    "            guess = player_guess()\n",
    "            if guess in secret_word:\n",
    "                correct_guess(secret_word, guesser_word, guess)\n",
    "            else:\n",
    "                wrong_letter = wrong_guess(guess, wrong_letters)\n",
    "                attempts -= 1\n",
    "                print('\\nYou have ' + str(attempts) + ' lives.')\n",
    "# if all of the elements in the secret word have been guessed correctly, all the elements will be '-' (so they will\n",
    "# all match the first element)\n",
    "        if all(elem == secret_word[0] for elem in secret_word):\n",
    "            print('\\nYOU WON! The secret word was: ' + str(word))\n",
    "        elif attempts == 0:\n",
    "            print('\\nYou ran out of lives... good try! The secret word was: ' + str(word))\n",
    "        play_game = input('\\nDo you want to play hangman again (Y/N)? ')"
   ]
  },
  {
   "cell_type": "code",
   "execution_count": null,
   "metadata": {
    "scrolled": true
   },
   "outputs": [],
   "source": [
    "hangman()"
   ]
  },
  {
   "cell_type": "code",
   "execution_count": null,
   "metadata": {},
   "outputs": [],
   "source": []
  },
  {
   "cell_type": "code",
   "execution_count": 24,
   "metadata": {},
   "outputs": [
    {
     "name": "stderr",
     "output_type": "stream",
     "text": [
      "test_check_char_word (__main__.TestHangman) ... ok\n",
      "test_check_character (__main__.TestHangman) ... ok\n",
      "test_continue_game_condition (__main__.TestHangman) ... ok\n",
      "test_generate_word (__main__.TestHangman) ... ok\n",
      "\n",
      "----------------------------------------------------------------------\n",
      "Ran 4 tests in 0.012s\n",
      "\n",
      "OK\n"
     ]
    },
    {
     "data": {
      "text/plain": [
       "<unittest.main.TestProgram at 0x10f5eb590>"
      ]
     },
     "execution_count": 24,
     "metadata": {},
     "output_type": "execute_result"
    }
   ],
   "source": [
    "import unittest\n",
    "\n",
    "class TestHangman(unittest.TestCase):\n",
    "        \n",
    "    def test_generate_word(self):\n",
    "        self.assertEqual(generate_word('box'), ['b', 'o', 'x'])\n",
    "        self.assertEqual(generate_word('toys'), ['t', 'o', 'y', 's'])\n",
    "        \n",
    "    def test_continue_game_condition(self):\n",
    "        self.assertEqual(continue_game_condition(['f', '-', '-'], 0), False)\n",
    "        self.assertEqual(continue_game_condition(['f', '-', 'x'], 4), True)\n",
    "        \n",
    "    def test_check_character(self):\n",
    "        self.assertEqual(check_character('f'), False)\n",
    "        self.assertEqual(check_character('7'), True)\n",
    "        \n",
    "    def test_check_char_word(self):\n",
    "        def check_char_word(word):\n",
    "            new_word = generate_word(word)\n",
    "            for i in new_word:\n",
    "                if check_character(i):\n",
    "                    return False\n",
    "            return True\n",
    "        self.assertEqual(check_char_word('word'), True)\n",
    "        self.assertEqual(check_char_word('he110'), False)\n",
    "        \n",
    "unittest.main(argv=[''], verbosity=2, exit=False)"
   ]
  }
 ],
 "metadata": {
  "kernelspec": {
   "display_name": "Python 3",
   "language": "python",
   "name": "python3"
  },
  "language_info": {
   "codemirror_mode": {
    "name": "ipython",
    "version": 3
   },
   "file_extension": ".py",
   "mimetype": "text/x-python",
   "name": "python",
   "nbconvert_exporter": "python",
   "pygments_lexer": "ipython3",
   "version": "3.7.4"
  }
 },
 "nbformat": 4,
 "nbformat_minor": 2
}
